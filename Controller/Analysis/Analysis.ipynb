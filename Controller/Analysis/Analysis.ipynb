{
 "cells": [
  {
   "cell_type": "code",
   "execution_count": 1,
   "id": "3e6adfe0",
   "metadata": {},
   "outputs": [],
   "source": [
    "import pandas as pd\n",
    "import numpy as np\n",
    "import matplotlib.pyplot as plt\n",
    "from scipy import stats\n",
    "import pingouin as pg"
   ]
  },
  {
   "cell_type": "code",
   "execution_count": 2,
   "id": "6670d893",
   "metadata": {},
   "outputs": [],
   "source": [
    "def stampToTime(x):\n",
    "    l = x.split(' ')[1]\n",
    "    ts = l.split(':')\n",
    "    t = float(ts[0])*3600 + float(ts[1])*60 + float(ts[2])\n",
    "    return t"
   ]
  },
  {
   "cell_type": "code",
   "execution_count": 3,
   "id": "87c046fe-3006-4675-beaa-7d46f5d4d3c7",
   "metadata": {},
   "outputs": [],
   "source": [
    "def cut_window(gs,vys,ts):\n",
    "    \n",
    "    start_t = 0\n",
    "    for g,t in zip(gs,ts): \n",
    "        if g == -50: \n",
    "            start_t = t - 3.5\n",
    "            break\n",
    "            \n",
    "    ng = []; nvy = []; nt = []\n",
    "    for i,[g,vy,t] in enumerate(zip(gs,vys,ts)):\n",
    "        if t > start_t + 3.5 and g == 50: break\n",
    "        if t > start_t: ng.append(g); nvy.append(vy); nt.append(t)\n",
    "            \n",
    "    return ng,nvy,nt\n",
    "\n",
    "def norm_time(data):\n",
    "    data[\"timestamp\"] = data[\"timestamp\"].apply(lambda x: stampToTime(x))\n",
    "    data[\"timestamp\"] = data[\"timestamp\"] - data.iloc[0][\"timestamp\"]\n",
    "    return data\n",
    "\n",
    "def getVy(data):\n",
    "    vys = []; ts = []; e = []; gs = []\n",
    "    for y, ym, t, tm, g in zip(data[\" y\"][1:],\\\n",
    "                            data[\" y\"][0:-1],\\\n",
    "                            data[\"timestamp\"][1:],\\\n",
    "                            data[\"timestamp\"][0:-1],\\\n",
    "                            data[\" goalVy\"][1:]):\n",
    "        dy = float(y)-float(ym)\n",
    "        dt = float(t)-float(tm)\n",
    "        if dt > 0 and abs(dy/dt) < 185 and g != 0:\n",
    "            ts.append(t)\n",
    "            if len(vys) != 0: vys.append(0.5*vys[-1] + 0.5*dy/dt)\n",
    "            else: vys.append(dy/dt)\n",
    "            e.append(abs(vys[-1]-float(g)))\n",
    "            gs.append(float(g))\n",
    "    return ts,vys,e,gs"
   ]
  },
  {
   "cell_type": "code",
   "execution_count": 4,
   "id": "4d257a38",
   "metadata": {},
   "outputs": [],
   "source": [
    "def process_error(data):\n",
    "    data = norm_time(data.copy())\n",
    "    t,vy,e,g = getVy(data)\n",
    "    gs,vys,t = cut_window(g,vy,t)\n",
    "    es = []\n",
    "    for g,vy in zip(gs,vys):\n",
    "        es.append(pow(g-vy,2))\n",
    "    \n",
    "    s = []\n",
    "    for v in [50,-50,75,-75,100,-100,150,-150,185,-185]:\n",
    "        w = []\n",
    "        for g,e in zip(gs,es):\n",
    "            if g == v: w.append(e)\n",
    "        if len(w)==0:s.append(-1)\n",
    "        else:s.append(np.sqrt(np.mean(w))/abs(v)*100)\n",
    "            \n",
    "    return s"
   ]
  },
  {
   "cell_type": "code",
   "execution_count": 5,
   "id": "e630a6fd",
   "metadata": {
    "tags": []
   },
   "outputs": [
    {
     "data": {
      "text/html": [
       "<div>\n",
       "<style scoped>\n",
       "    .dataframe tbody tr th:only-of-type {\n",
       "        vertical-align: middle;\n",
       "    }\n",
       "\n",
       "    .dataframe tbody tr th {\n",
       "        vertical-align: top;\n",
       "    }\n",
       "\n",
       "    .dataframe thead th {\n",
       "        text-align: right;\n",
       "    }\n",
       "</style>\n",
       "<table border=\"1\" class=\"dataframe\">\n",
       "  <thead>\n",
       "    <tr style=\"text-align: right;\">\n",
       "      <th></th>\n",
       "      <th>Ctrl</th>\n",
       "      <th>Weight</th>\n",
       "      <th>Run</th>\n",
       "      <th>Err</th>\n",
       "      <th>average</th>\n",
       "    </tr>\n",
       "  </thead>\n",
       "  <tbody>\n",
       "    <tr>\n",
       "      <th>100</th>\n",
       "      <td>adaptive</td>\n",
       "      <td>200</td>\n",
       "      <td>3</td>\n",
       "      <td>88.919234</td>\n",
       "      <td>88.919234</td>\n",
       "    </tr>\n",
       "    <tr>\n",
       "      <th>101</th>\n",
       "      <td>adaptive</td>\n",
       "      <td>200</td>\n",
       "      <td>3</td>\n",
       "      <td>85.678948</td>\n",
       "      <td>85.678948</td>\n",
       "    </tr>\n",
       "    <tr>\n",
       "      <th>102</th>\n",
       "      <td>adaptive</td>\n",
       "      <td>200</td>\n",
       "      <td>3</td>\n",
       "      <td>79.534687</td>\n",
       "      <td>79.534687</td>\n",
       "    </tr>\n",
       "    <tr>\n",
       "      <th>103</th>\n",
       "      <td>adaptive</td>\n",
       "      <td>200</td>\n",
       "      <td>3</td>\n",
       "      <td>82.791263</td>\n",
       "      <td>82.791263</td>\n",
       "    </tr>\n",
       "    <tr>\n",
       "      <th>104</th>\n",
       "      <td>adaptive</td>\n",
       "      <td>200</td>\n",
       "      <td>3</td>\n",
       "      <td>84.025762</td>\n",
       "      <td>84.025762</td>\n",
       "    </tr>\n",
       "    <tr>\n",
       "      <th>...</th>\n",
       "      <td>...</td>\n",
       "      <td>...</td>\n",
       "      <td>...</td>\n",
       "      <td>...</td>\n",
       "      <td>...</td>\n",
       "    </tr>\n",
       "    <tr>\n",
       "      <th>745</th>\n",
       "      <td>adaptive</td>\n",
       "      <td>200</td>\n",
       "      <td>3</td>\n",
       "      <td>46.746916</td>\n",
       "      <td>46.746916</td>\n",
       "    </tr>\n",
       "    <tr>\n",
       "      <th>746</th>\n",
       "      <td>adaptive</td>\n",
       "      <td>200</td>\n",
       "      <td>3</td>\n",
       "      <td>89.061205</td>\n",
       "      <td>89.061205</td>\n",
       "    </tr>\n",
       "    <tr>\n",
       "      <th>747</th>\n",
       "      <td>adaptive</td>\n",
       "      <td>200</td>\n",
       "      <td>3</td>\n",
       "      <td>72.746983</td>\n",
       "      <td>72.746983</td>\n",
       "    </tr>\n",
       "    <tr>\n",
       "      <th>748</th>\n",
       "      <td>adaptive</td>\n",
       "      <td>200</td>\n",
       "      <td>3</td>\n",
       "      <td>67.243998</td>\n",
       "      <td>67.243998</td>\n",
       "    </tr>\n",
       "    <tr>\n",
       "      <th>749</th>\n",
       "      <td>adaptive</td>\n",
       "      <td>200</td>\n",
       "      <td>3</td>\n",
       "      <td>91.493486</td>\n",
       "      <td>91.493486</td>\n",
       "    </tr>\n",
       "  </tbody>\n",
       "</table>\n",
       "<p>140 rows × 5 columns</p>\n",
       "</div>"
      ],
      "text/plain": [
       "         Ctrl Weight Run        Err    average\n",
       "100  adaptive    200   3  88.919234  88.919234\n",
       "101  adaptive    200   3  85.678948  85.678948\n",
       "102  adaptive    200   3  79.534687  79.534687\n",
       "103  adaptive    200   3  82.791263  82.791263\n",
       "104  adaptive    200   3  84.025762  84.025762\n",
       "..        ...    ...  ..        ...        ...\n",
       "745  adaptive    200   3  46.746916  46.746916\n",
       "746  adaptive    200   3  89.061205  89.061205\n",
       "747  adaptive    200   3  72.746983  72.746983\n",
       "748  adaptive    200   3  67.243998  67.243998\n",
       "749  adaptive    200   3  91.493486  91.493486\n",
       "\n",
       "[140 rows x 5 columns]"
      ]
     },
     "execution_count": 5,
     "metadata": {},
     "output_type": "execute_result"
    }
   ],
   "source": [
    "def clean_ctrl(s): \n",
    "    if s.strip() not in [\"old\",\"adaptive\"]: return \"adaptive\"\n",
    "    else: return s.strip()\n",
    "    \n",
    "def clean_run(s):\n",
    "    if type(s) == int: return s\n",
    "    if s.strip() not in [\"1\",\"2\",\"3\"]: return \"nan\"\n",
    "    else: return int(s.strip())\n",
    "    \n",
    "def clean_weight(s):\n",
    "    if type(s) == int: return s\n",
    "    if s.strip() not in [\"0\",\"50\",\"100\",\"150\",\"200\"]: return \"nan\"\n",
    "    else: return int(s.strip())\n",
    "\n",
    "file = \"logs_Ubuntu_20.04.3_LTS_@_A0_A4_C5_91_5E_9B_Thu-17-02-2022_\"\n",
    "files = [\"13_14_09\",\"13_45_59\",\"14_02_52\",\"14_14_20\",\\\n",
    "         \"15_04_54\",\"15_39_07\",\"15_45_05\"]\n",
    "\n",
    "df = pd.DataFrame(columns=[\"Ctrl\",\"Weight\",\"Run\",\"Err\"])#50\",\"Err75\",\"Err100\",\"Err150\",\"Err185\",\"Err-50\",\"Err-75\",\"Err-100\",\"Err-150\",\"Err-185\"])\n",
    "\n",
    "for f in files:\n",
    "    \n",
    "    data = pd.read_csv(file + f + \".csv\")\n",
    "    ctrl = \"\"\n",
    "    run = 0\n",
    "    weight = 0\n",
    "    err = 0\n",
    "    \n",
    "    data[\" controller\"] = data[\" controller\"].apply(lambda x: clean_ctrl(x))\n",
    "    data[\" run#\"] = data[\" run#\"].apply(lambda x: clean_run(x))\n",
    "    data.drop(data[data[\" run#\"]==\"nan\"].index,inplace=True)\n",
    "    data[\" weight\"] = data[\" weight\"].apply(lambda x: clean_weight(x))\n",
    "    data.drop(data[data[\" weight\"]==\"nan\"].index,inplace=True)\n",
    "    \n",
    "    for c in data[\" controller\"].unique():\n",
    "        if c.strip() == \"old\": ctrl = \"Old\"\n",
    "        else: ctrl = \"Adaptive\"\n",
    "            \n",
    "        data_c = data[data[\" controller\"] == c]\n",
    "        \n",
    "        for w in data_c[\" weight\"].unique():\n",
    "            weight = w\n",
    "            \n",
    "            data_w = data_c[data_c[\" weight\"] == w]\n",
    "                \n",
    "            for r in data_w[\" run#\"].unique():\n",
    "                run = r\n",
    "                \n",
    "                data_r = data_w[data_w[\" run#\"] == r]\n",
    "                \n",
    "                err = process_error(data_r)\n",
    "                \n",
    "                #print(f,c,w,r,err)\n",
    "                if err[8] == -1:continue\n",
    "                if err[9] == -1:continue\n",
    "                for i in range(0,10):\n",
    "                    df = df.append({\"Ctrl\":c,\"Weight\":w, \"Run\" : r , \"Err\":err[i]},ignore_index=True)\n",
    "                # df = df.append({\"Ctrl\":c,\"Weight\":w,\"Run\":r,\"Err50\":(err[0]),\"Err-50\":(err[1]),\\\n",
    "                #                 \"Err75\":(err[2]),\"Err-75\":np.sqrt(err[3]),\"Err100\":(err[4]), \"Err-100\":(err[5]),\\\n",
    "                #                 \"Err150\":(err[6]),\"Err-150\":(err[7]),\"Err185\":(err[8]),\"Err-185\":np.sqrt(err[9])},    \n",
    "                #                ignore_index=True)\n",
    "# df['average'] = (df.Err50+df.Err75 + df.Err100 + df.Err150 + df.Err185) / 5\n",
    "df['average']=df[df.columns[3:]].mean(axis=1)\n",
    "df[df.Weight==200]"
   ]
  },
  {
   "cell_type": "code",
   "execution_count": 6,
   "id": "7e3d7c50",
   "metadata": {},
   "outputs": [
    {
     "name": "stdout",
     "output_type": "stream",
     "text": [
      "old 53.43231954084735ada 51.6619064090409\n"
     ]
    },
    {
     "data": {
      "text/plain": [
       "MannwhitneyuResult(statistic=2179.0, pvalue=0.7139126686491302)"
      ]
     },
     "metadata": {},
     "output_type": "display_data"
    },
    {
     "data": {
      "text/plain": [
       "0.5188095238095238"
      ]
     },
     "metadata": {},
     "output_type": "display_data"
    },
    {
     "name": "stdout",
     "output_type": "stream",
     "text": [
      "old 54.50211003416851ada 53.74693743164239\n"
     ]
    },
    {
     "data": {
      "text/plain": [
       "MannwhitneyuResult(statistic=2849.0, pvalue=0.5688940897419501)"
      ]
     },
     "metadata": {},
     "output_type": "display_data"
    },
    {
     "data": {
      "text/plain": [
       "0.5275925925925926"
      ]
     },
     "metadata": {},
     "output_type": "display_data"
    },
    {
     "name": "stdout",
     "output_type": "stream",
     "text": [
      "old 63.007495899237604ada 58.14061210818242\n"
     ]
    },
    {
     "data": {
      "text/plain": [
       "MannwhitneyuResult(statistic=3437.0, pvalue=0.004722346656917067)"
      ]
     },
     "metadata": {},
     "output_type": "display_data"
    },
    {
     "data": {
      "text/plain": [
       "0.6364814814814815"
      ]
     },
     "metadata": {},
     "output_type": "display_data"
    },
    {
     "name": "stdout",
     "output_type": "stream",
     "text": [
      "old 70.36160245473427ada 65.16196833093422\n"
     ]
    },
    {
     "data": {
      "text/plain": [
       "MannwhitneyuResult(statistic=4315.0, pvalue=0.030148036742304915)"
      ]
     },
     "metadata": {},
     "output_type": "display_data"
    },
    {
     "data": {
      "text/plain": [
       "0.5993055555555555"
      ]
     },
     "metadata": {},
     "output_type": "display_data"
    },
    {
     "name": "stdout",
     "output_type": "stream",
     "text": [
      "old 77.48651948174187ada 71.34865578503421\n"
     ]
    },
    {
     "data": {
      "text/plain": [
       "MannwhitneyuResult(statistic=3048.0, pvalue=0.006401638372703008)"
      ]
     },
     "metadata": {},
     "output_type": "display_data"
    },
    {
     "data": {
      "text/plain": [
       "0.635"
      ]
     },
     "metadata": {},
     "output_type": "display_data"
    },
    {
     "data": {
      "image/png": "[encoded data removed]",
      "text/plain": [
       "<Figure size 432x288 with 1 Axes>"
      ]
     },
     "metadata": {
      "needs_background": "light"
     },
     "output_type": "display_data"
    }
   ],
   "source": [
    "ada = np.zeros(5)\n",
    "ada_std = np.zeros(5)\n",
    "df_ada = df[df[\"Ctrl\"] == \"adaptive\"]\n",
    "\n",
    "old = np.zeros(5)\n",
    "old_std = np.zeros(5)\n",
    "df_old = df[df[\"Ctrl\"] == \"old\"]\n",
    "for i,w in enumerate([0,50,100,150,200]):\n",
    "    df_ada_w = df_ada[df_ada[\"Weight\"] == w]\n",
    "    ada[i] = np.mean(df_ada_w.average)#[\"Err\"+str(speeds[s])])\n",
    "    ada_std[i] = np.std(df_ada_w.average)#[\"Err\"+str(speeds[s])])\n",
    "    \n",
    "    df_old_w = df_old[df_old[\"Weight\"] == w]\n",
    "    old[i] = np.mean(df_old_w.average)#[\"Err\"+str(speeds[s])])\n",
    "    old_std[i] = np.std(df_old_w.average)#[\"Err\"+str(speeds[s])])\n",
    "    print(\"old \"+str(old[i])+\"ada \"+str(ada[i]))\n",
    "    display(stats.mannwhitneyu(df_old_w.average, df_ada_w.average))\n",
    "    display(pg.compute_effsize(df_old_w.average, df_ada_w.average,eftype='cles'))\n",
    "    \n",
    "    \n",
    "\n",
    "plt.errorbar([5,55,105,155,205],ada,ada_std,linestyle='None', marker='x', label=\"Adaptive controller\")\n",
    "plt.errorbar([-5,45,95,145,195],old,old_std,linestyle='None', marker='x', label=\"Old controller\")\n",
    "plt.title(\"Percentage RMSE velocity tracking error mm/s\")\n",
    "plt.legend(loc = \"upper left\")\n",
    "plt.xlabel(\"Weight [gr]\")\n",
    "plt.ylabel(\"Percentage Error [%]\")\n",
    "\n",
    "plt.savefig('Tracking error.jpg',bbox_inches='tight', dpi=200)\n",
    "\n",
    "plt.show()"
   ]
  },
  {
   "cell_type": "code",
   "execution_count": 8,
   "id": "1bcc00fd",
   "metadata": {},
   "outputs": [
    {
     "name": "stdout",
     "output_type": "stream",
     "text": [
      "[63.631211270572194, 61.57726129916322, 49.79035774327577, 60.77363361165368, 62.10862885701572, 56.5971681020391, 55.40908210668933, 66.8330773634178, 65.92912460123041, 60.6495716508596]\n"
     ]
    },
    {
     "data": {
      "text/plain": [
       "[<matplotlib.lines.Line2D at 0x7f79555b5490>]"
      ]
     },
     "execution_count": 8,
     "metadata": {},
     "output_type": "execute_result"
    },
    {
     "data": {
      "image/png": "[encoded data removed]",
      "text/plain": [
       "<Figure size 432x288 with 1 Axes>"
      ]
     },
     "metadata": {
      "needs_background": "light"
     },
     "output_type": "display_data"
    }
   ],
   "source": [
    "data = pd.read_csv(file + files[0] + \".csv\")\n",
    "data = data[data[\" weight\"] == \"100\"]\n",
    "data = data[data[\" run#\"] == \"1\"]\n",
    "print(process_error(data))\n",
    "data = norm_time(data)\n",
    "t,vy,e,g = getVy(data)\n",
    "g,vy,t = cut_window(g,vy,t)\n",
    "plt.plot(t,vy)\n",
    "plt.plot(t,g)"
   ]
  },
  {
   "cell_type": "code",
   "execution_count": 9,
   "id": "3c40e7b8-0748-4499-900e-9f5ecf2b3c4a",
   "metadata": {},
   "outputs": [
    {
     "data": {
      "text/plain": [
       "[<matplotlib.lines.Line2D at 0x7f7955482550>]"
      ]
     },
     "execution_count": 9,
     "metadata": {},
     "output_type": "execute_result"
    },
    {
     "data": {
      "image/png": "[encoded data removed]",
      "text/plain": [
       "<Figure size 432x288 with 1 Axes>"
      ]
     },
     "metadata": {
      "needs_background": "light"
     },
     "output_type": "display_data"
    }
   ],
   "source": [
    "plt.plot(t,np.array(g)-np.array(vy))"
   ]
  },
  {
   "cell_type": "code",
   "execution_count": 12,
   "id": "92cfb1d3-22d9-43da-91bf-21e1b0269760",
   "metadata": {},
   "outputs": [
    {
     "data": {
      "text/plain": [
       "[<matplotlib.lines.Line2D at 0x7f795625dbb0>]"
      ]
     },
     "execution_count": 12,
     "metadata": {},
     "output_type": "execute_result"
    },
    {
     "data": {
      "image/png": "[encoded data removed]",
      "text/plain": [
       "<Figure size 432x288 with 1 Axes>"
      ]
     },
     "metadata": {
      "needs_background": "light"
     },
     "output_type": "display_data"
    }
   ],
   "source": [
    "data1  = pd.read_csv(file + files[1] + \".csv\")\n",
    "data1[\" controller\"] = data1[\" controller\"].apply(lambda x: clean_ctrl(x))\n",
    "data1[\" run#\"] = data1[\" run#\"].apply(lambda x: clean_run(x))\n",
    "data1.drop(data1[data1[\" run#\"]==\"nan\"].index,inplace=True)\n",
    "data1[\" weight\"] = data1[\" weight\"].apply(lambda x: clean_weight(x))\n",
    "data1.drop(data1[data1[\" weight\"]==\"nan\"].index,inplace=True)\n",
    "data1 = data1[data1[\" weight\"] == 150]\n",
    "data1 = data1[data1[\" run#\"] == 1]\n",
    "# print(process_error(data))\n",
    "data1 = norm_time(data1)\n",
    "t,vy,e,g = getVy(data1)\n",
    "g,vy,t = cut_window(g,vy,t)\n",
    "plt.plot(t,vy)\n",
    "plt.plot(t,g)"
   ]
  },
  {
   "cell_type": "code",
   "execution_count": null,
   "id": "0e4f5fd6-4581-44ab-bef5-015236afaa91",
   "metadata": {},
   "outputs": [],
   "source": []
  }
 ],
 "metadata": {
  "kernelspec": {
   "display_name": "Python 3 (ipykernel)",
   "language": "python",
   "name": "python3"
  },
  "language_info": {
   "codemirror_mode": {
    "name": "ipython",
    "version": 3
   },
   "file_extension": ".py",
   "mimetype": "text/x-python",
   "name": "python",
   "nbconvert_exporter": "python",
   "pygments_lexer": "ipython3",
   "version": "3.8.10"
  }
 },
 "nbformat": 4,
 "nbformat_minor": 5
}
